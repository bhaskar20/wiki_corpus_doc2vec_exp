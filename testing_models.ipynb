{
 "cells": [
  {
   "cell_type": "code",
   "execution_count": 1,
   "metadata": {},
   "outputs": [],
   "source": [
    "from gensim.models.doc2vec import Doc2Vec\n",
    "from pprint import pprint\n",
    "import pickle\n",
    "import os\n",
    "from gensim.models.callbacks import CallbackAny2Vec\n",
    "from gensim.test.utils import get_tmpfile"
   ]
  },
  {
   "cell_type": "code",
   "execution_count": 2,
   "metadata": {},
   "outputs": [],
   "source": [
    "class EpochLoggerDM(CallbackAny2Vec):\n",
    "    '''Callback to log information about training'''\n",
    "\n",
    "    def __init__(self, path_prefix):\n",
    "        self.path_prefix = path_prefix\n",
    "        self.epoch = 0\n",
    "        self.start = datetime.datetime.now()\n",
    "\n",
    "    def on_epoch_begin(self, model):\n",
    "        print(\"Epoch #{} start\".format(self.epoch))\n",
    "        self.start = datetime.datetime.now()\n",
    "        print(self.start)\n",
    "\n",
    "    def on_epoch_end(self, model):\n",
    "        print(\"Epoch #{} end\".format(self.epoch))\n",
    "        if (self.epoch >= 8):\n",
    "            output_path = get_tmpfile('{}_epoch{}.model'.format(self.path_prefix, self.epoch))\n",
    "            model.save(output_path)\n",
    "        self.epoch += 1\n",
    "        print(datetime.datetime.now() - self.start)\n",
    "    \n",
    "    def on_train_begin(self, model):\n",
    "        print(\"Training for DM\")\n",
    "    \n",
    "    def on_train_end(self, model):\n",
    "        print(\"Training end for DM\")\n",
    "\n",
    "class EpochLoggerDBOW(CallbackAny2Vec):\n",
    "    '''Callback to log information about training'''\n",
    "\n",
    "    def __init__(self, path_prefix):\n",
    "        self.epoch = 0\n",
    "        self.path_prefix = path_prefix\n",
    "        self.start = datetime.datetime.now()\n",
    "\n",
    "    def on_epoch_begin(self, model):\n",
    "        print(\"Epoch #{} start\".format(self.epoch))\n",
    "        self.start = datetime.datetime.now()\n",
    "        print(self.start)\n",
    "\n",
    "    def on_epoch_end(self, model):\n",
    "        print(\"Epoch #{} end\".format(self.epoch))\n",
    "        if (self.epoch >= 8):\n",
    "            output_path = get_tmpfile('{}_epoch{}.model'.format(self.path_prefix, self.epoch))\n",
    "            model.save(output_path)\n",
    "        self.epoch += 1\n",
    "        print(datetime.datetime.now() - self.start)\n",
    "    \n",
    "    def on_train_begin(self, model):\n",
    "        print(\"Training for DBOW\")\n",
    "    \n",
    "    def on_train_end(self, model):\n",
    "        print(\"Training end for DBOW\")\n"
   ]
  },
  {
   "cell_type": "code",
   "execution_count": 3,
   "metadata": {},
   "outputs": [],
   "source": [
    "# filePath = os.path.join(')\n",
    "# print(filePath)\n",
    "# x = get_tmpfile('DBOW_epoch9.model')\n",
    "# print(x)\n",
    "# print(os.getcwd())\n",
    "model_dbow = Doc2Vec.load('/home/ubuntu/Notebooks/gensim/modelsData/DBOW_epoch9.model')"
   ]
  },
  {
   "cell_type": "code",
   "execution_count": 4,
   "metadata": {},
   "outputs": [],
   "source": [
    "text = 'The epic treatise of modern economics, written by Adam Smith in 1776, was interestingly titled “An Inquiry into the Nature and Causes of the Wealth of Nations”. With India having become the fifth largest economy in the world in 2019 and aspiring to be the third largest by 2025, it is only befitting to go back to one of the foundational questions posed by Smith, “What causes wealth and prosperity of nations?” The Economic Survey 2019-20 makes a humble attempt to craft a framework of policies that can foster wealth creation in India. This inquiry is particularly critical at this stage as India aspires to become a $5 trillion economy by 2025 – an ambitious vision that should create, as Smith observed, “universal opulence which extends itself to the lowest ranks of the people.”'"
   ]
  },
  {
   "cell_type": "code",
   "execution_count": 47,
   "metadata": {},
   "outputs": [
    {
     "name": "stdout",
     "output_type": "stream",
     "text": [
      "{'doctag_lookup': 954527400, 'doctag_syn0': 9545274000, 'vocab': 501777500, 'vectors': 2007110000, 'syn1neg': 2007110000, 'total': 15015798900}\n",
      "954527400\n",
      "500\n"
     ]
    },
    {
     "name": "stderr",
     "output_type": "stream",
     "text": [
      "/home/ubuntu/anaconda3/lib/python3.7/site-packages/ipykernel_launcher.py:5: DeprecationWarning: Call to deprecated `layer1_size` (Attribute will be removed in 4.0.0, use self.trainables.layer1_size instead).\n",
      "  \"\"\"\n"
     ]
    }
   ],
   "source": [
    "x = model_dbow.infer_vector(text.split())\n",
    "# print(x)\n",
    "print(model_dbow.estimate_memory())\n",
    "print(model_dbow.estimated_lookup_memory())\n",
    "print(model_dbow.layer1_size)\n",
    "model_dbow.delete_temporary_training_data(keep_doctags_vectors=True, keep_inference=True)"
   ]
  },
  {
   "cell_type": "code",
   "execution_count": 51,
   "metadata": {},
   "outputs": [],
   "source": [
    "# model_dbow.docvecs.most_similar(positive=[x], topn=10)"
   ]
  },
  {
   "cell_type": "code",
   "execution_count": 52,
   "metadata": {},
   "outputs": [
    {
     "data": {
      "text/plain": [
       "0.11670896"
      ]
     },
     "execution_count": 52,
     "metadata": {},
     "output_type": "execute_result"
    }
   ],
   "source": [
    "model_dbow.docvecs.similarity(4772633,3)"
   ]
  },
  {
   "cell_type": "code",
   "execution_count": 85,
   "metadata": {},
   "outputs": [
    {
     "name": "stdout",
     "output_type": "stream",
     "text": [
      "Autism\n",
      "Economy of India\n"
     ]
    }
   ],
   "source": [
    "print(model_dbow.docvecs.index_to_doctag(1))\n",
    "print(model_dbow.docvecs.index_to_doctag(411653))"
   ]
  },
  {
   "cell_type": "code",
   "execution_count": 38,
   "metadata": {},
   "outputs": [
    {
     "name": "stdout",
     "output_type": "stream",
     "text": [
      "4772637\n"
     ]
    }
   ],
   "source": [
    "print(model_dbow.docvecs.count)"
   ]
  },
  {
   "cell_type": "code",
   "execution_count": 55,
   "metadata": {},
   "outputs": [],
   "source": [
    "# model_dbow.docvecs.rank(1, 2)"
   ]
  },
  {
   "cell_type": "code",
   "execution_count": 86,
   "metadata": {},
   "outputs": [
    {
     "name": "stdout",
     "output_type": "stream",
     "text": [
      "Doctag(offset=2884531, word_count=1075, doc_count=1)\n"
     ]
    }
   ],
   "source": [
    "y = model_dbow.docvecs[\"Economy of India\"]\n",
    "# print(model_dbow.docvecs.get_vector(\"Economy of India\"))\n",
    "print(model_dbow.docvecs.doctags[\"Economic Advisory Council\"])"
   ]
  },
  {
   "cell_type": "code",
   "execution_count": 87,
   "metadata": {},
   "outputs": [
    {
     "ename": "KeyError",
     "evalue": "411653",
     "output_type": "error",
     "traceback": [
      "\u001b[0;31m---------------------------------------------------------------------------\u001b[0m",
      "\u001b[0;31mKeyError\u001b[0m                                  Traceback (most recent call last)",
      "\u001b[0;32m<ipython-input-87-308883c00604>\u001b[0m in \u001b[0;36m<module>\u001b[0;34m\u001b[0m\n\u001b[0;32m----> 1\u001b[0;31m \u001b[0mmodel_dbow\u001b[0m\u001b[0;34m.\u001b[0m\u001b[0mdocvecs\u001b[0m\u001b[0;34m.\u001b[0m\u001b[0mcloser_than\u001b[0m\u001b[0;34m(\u001b[0m\u001b[0;36m411653\u001b[0m\u001b[0;34m,\u001b[0m \u001b[0;36m2884531\u001b[0m\u001b[0;34m)\u001b[0m\u001b[0;34m\u001b[0m\u001b[0;34m\u001b[0m\u001b[0m\n\u001b[0m",
      "\u001b[0;32m~/anaconda3/lib/python3.7/site-packages/gensim/models/keyedvectors.py\u001b[0m in \u001b[0;36mcloser_than\u001b[0;34m(self, entity1, entity2)\u001b[0m\n\u001b[1;32m    365\u001b[0m         \u001b[0;34m\"\"\"Get all entities that are closer to `entity1` than `entity2` is to `entity1`.\"\"\"\u001b[0m\u001b[0;34m\u001b[0m\u001b[0;34m\u001b[0m\u001b[0m\n\u001b[1;32m    366\u001b[0m         \u001b[0mall_distances\u001b[0m \u001b[0;34m=\u001b[0m \u001b[0mself\u001b[0m\u001b[0;34m.\u001b[0m\u001b[0mdistances\u001b[0m\u001b[0;34m(\u001b[0m\u001b[0mentity1\u001b[0m\u001b[0;34m)\u001b[0m\u001b[0;34m\u001b[0m\u001b[0;34m\u001b[0m\u001b[0m\n\u001b[0;32m--> 367\u001b[0;31m         \u001b[0me1_index\u001b[0m \u001b[0;34m=\u001b[0m \u001b[0mself\u001b[0m\u001b[0;34m.\u001b[0m\u001b[0mvocab\u001b[0m\u001b[0;34m[\u001b[0m\u001b[0mentity1\u001b[0m\u001b[0;34m]\u001b[0m\u001b[0;34m.\u001b[0m\u001b[0mindex\u001b[0m\u001b[0;34m\u001b[0m\u001b[0;34m\u001b[0m\u001b[0m\n\u001b[0m\u001b[1;32m    368\u001b[0m         \u001b[0me2_index\u001b[0m \u001b[0;34m=\u001b[0m \u001b[0mself\u001b[0m\u001b[0;34m.\u001b[0m\u001b[0mvocab\u001b[0m\u001b[0;34m[\u001b[0m\u001b[0mentity2\u001b[0m\u001b[0;34m]\u001b[0m\u001b[0;34m.\u001b[0m\u001b[0mindex\u001b[0m\u001b[0;34m\u001b[0m\u001b[0;34m\u001b[0m\u001b[0m\n\u001b[1;32m    369\u001b[0m         \u001b[0mcloser_node_indices\u001b[0m \u001b[0;34m=\u001b[0m \u001b[0mnp\u001b[0m\u001b[0;34m.\u001b[0m\u001b[0mwhere\u001b[0m\u001b[0;34m(\u001b[0m\u001b[0mall_distances\u001b[0m \u001b[0;34m<\u001b[0m \u001b[0mall_distances\u001b[0m\u001b[0;34m[\u001b[0m\u001b[0me2_index\u001b[0m\u001b[0;34m]\u001b[0m\u001b[0;34m)\u001b[0m\u001b[0;34m[\u001b[0m\u001b[0;36m0\u001b[0m\u001b[0;34m]\u001b[0m\u001b[0;34m\u001b[0m\u001b[0;34m\u001b[0m\u001b[0m\n",
      "\u001b[0;31mKeyError\u001b[0m: 411653"
     ]
    }
   ],
   "source": [
    "model_dbow.docvecs.closer_than(411653, 2884531)"
   ]
  },
  {
   "cell_type": "code",
   "execution_count": null,
   "metadata": {},
   "outputs": [],
   "source": []
  }
 ],
 "metadata": {
  "kernelspec": {
   "display_name": "gensim2",
   "language": "python",
   "name": "gensim2"
  },
  "language_info": {
   "codemirror_mode": {
    "name": "ipython",
    "version": 3
   },
   "file_extension": ".py",
   "mimetype": "text/x-python",
   "name": "python",
   "nbconvert_exporter": "python",
   "pygments_lexer": "ipython3",
   "version": "3.7.3"
  }
 },
 "nbformat": 4,
 "nbformat_minor": 2
}
